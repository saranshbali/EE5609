{
 "cells": [
  {
   "cell_type": "code",
   "execution_count": 2,
   "metadata": {},
   "outputs": [
    {
     "name": "stdout",
     "output_type": "stream",
     "text": [
      "Given chemical equation is balanced\n"
     ]
    }
   ],
   "source": [
    "#Program to check whether the given chemical equation is balanced.\n",
    "# 2NaOH + H_2SO_4 -> Na_2SO_4  +  2H_2O\n",
    "x_Na = 2\n",
    "x_O = 6\n",
    "x_H = 4\n",
    "x_S = 1\n",
    "y_Na = 2\n",
    "y_O = 6\n",
    "y_H = 4\n",
    "y_S =1\n",
    "if(x_Na + x_O + x_H + x_S == y_Na + y_O + y_H + y_S):\n",
    "    print(\"Given chemical equation is balanced\")"
   ]
  },
  {
   "cell_type": "code",
   "execution_count": null,
   "metadata": {},
   "outputs": [],
   "source": []
  }
 ],
 "metadata": {
  "kernelspec": {
   "display_name": "Python 3",
   "language": "python",
   "name": "python3"
  },
  "language_info": {
   "codemirror_mode": {
    "name": "ipython",
    "version": 3
   },
   "file_extension": ".py",
   "mimetype": "text/x-python",
   "name": "python",
   "nbconvert_exporter": "python",
   "pygments_lexer": "ipython3",
   "version": "3.6.5"
  }
 },
 "nbformat": 4,
 "nbformat_minor": 2
}
