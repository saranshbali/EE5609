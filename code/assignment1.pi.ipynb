{
 "cells": [
  {
   "cell_type": "code",
   "execution_count": 9,
   "metadata": {},
   "outputs": [
    {
     "name": "stdout",
     "output_type": "stream",
     "text": [
      "The vertices v_1, v_2 and v_3 form a triangle\n"
     ]
    }
   ],
   "source": [
    "import numpy as np\n",
    "#Vertices of the triangle are declared as v_1, v_2 and v_3\n",
    "v_1 = np.array([2,-1,1])\n",
    "v_2 = np.array([1,-3,-5])\n",
    "v_3 = np.array([3,-4,-4])\n",
    "#calculating the distance between the given three vertices\n",
    "x = np.linalg.norm(v_1-v_2)\n",
    "y = np.linalg.norm(v_1-v_3)\n",
    "z = np.linalg.norm(v_3-v_2)\n",
    "#checking for triangle using triangle inequality\n",
    "if(x+y >z and x+z>y and y+z>x):\n",
    "    print(\"The vertices v_1, v_2 and v_3 form a triangle\")\n",
    "#checking for right triangle\n",
    "if ( np.dot(v_1,v_2==0) or np.dot(v_1,v_3==0) or np.dot(v_2,v_3==0)):\n",
    "    print(\"Vertices v_1, v_2 and v_3 form a right triangle\")"
   ]
  },
  {
   "cell_type": "code",
   "execution_count": null,
   "metadata": {},
   "outputs": [],
   "source": []
  }
 ],
 "metadata": {
  "kernelspec": {
   "display_name": "Python 3",
   "language": "python",
   "name": "python3"
  },
  "language_info": {
   "codemirror_mode": {
    "name": "ipython",
    "version": 3
   },
   "file_extension": ".py",
   "mimetype": "text/x-python",
   "name": "python",
   "nbconvert_exporter": "python",
   "pygments_lexer": "ipython3",
   "version": "3.6.5"
  }
 },
 "nbformat": 4,
 "nbformat_minor": 2
}
