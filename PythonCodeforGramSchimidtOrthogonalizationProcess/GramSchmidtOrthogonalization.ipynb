{
 "cells": [
  {
   "cell_type": "code",
   "execution_count": 26,
   "metadata": {},
   "outputs": [
    {
     "name": "stdout",
     "output_type": "stream",
     "text": [
      "Matrix  0\n",
      "Test passed\n",
      "Matrix  1\n",
      "Test passed\n",
      "Matrix  2\n",
      "Test passed\n"
     ]
    }
   ],
   "source": [
    "import numpy as np\n",
    "def upper_triangular(M,m,n):\n",
    "    i=0\n",
    "    for j in range(n):\n",
    "        flag =0\n",
    "        if i<m and M[i][j]==0:\n",
    "            flag = 1\n",
    "            for k in range(i+1,m):\n",
    "                if M[k][j]!=0:\n",
    "                    swap(M,i,k)\n",
    "                    flag=0\n",
    "                    break\n",
    "        if flag==0 and i<m:\n",
    "            for l in range(m):\n",
    "                if i !=l and l > i:\n",
    "                    M[l] = M[l]-M[i]*(M[l][j]/M[i][j]);\n",
    "                        \n",
    "            i=i+1        \n",
    "                                    \n",
    "    return M  \n",
    "def swap(M,i,k):\n",
    "    #print(i,k)\n",
    "    l=M[i].copy();\n",
    "    #print(l)\n",
    "    M[i]=M[k];\n",
    "   # print(M[i])\n",
    "    M[k]=l;\n",
    "def dependent_rows_index(M,m,n):\n",
    "    a = []\n",
    "    for i in range(m):\n",
    "        if np.array_equal(M[i], np.zeros(n)):\n",
    "            a.append(i)\n",
    "    \n",
    "    return a\n",
    "def independent_rows(M,a):\n",
    "    b = np.delete(M,a,0)\n",
    "    return b\n",
    "\n",
    "def normalize(v):\n",
    "    return v / np.sqrt(np.dot(v,v))\n",
    "def Gram_Schmidt(A,m,n):\n",
    "    A[:, 0] = normalize(A[:, 0])\n",
    "    for i in range(1, n):\n",
    "        Ai = A[:, i]\n",
    "        for j in range(0, i):\n",
    "            Aj = A[:, j]\n",
    "            t = Ai.dot(Aj)\n",
    "            Ai = Ai - t * Aj\n",
    "        A[:, i] = normalize(Ai)\n",
    "    return A\n",
    "def compute_gram_schmidt(A):\n",
    "    m = len(A.T)\n",
    "    n = len(A.T[0])\n",
    "    f = upper_triangular(A.T,m,n)\n",
    "    g = dependent_rows_index(f,m,n)\n",
    "    h = independent_rows(A.T,g)\n",
    "    i = Gram_Schmidt(h.T,n,m)\n",
    "    return i\n",
    "test_matrices = np.load('testmatrices.npy',allow_pickle=True)\n",
    "\n",
    "no_matrices = len(test_matrices)\n",
    "for i in range(no_matrices):\n",
    "    A = test_matrices[i].copy()\n",
    "    B = compute_gram_schmidt(A)\n",
    "    print('Matrix ',i)\n",
    "    testpassed = True\n",
    "    if np.linalg.norm(np.matmul(B.transpose(),B) - np.eye(np.shape(B)[1])) > 0.0001:\n",
    "        print('Test failed: B^TB is not identity')\n",
    "        testpassed = False\n",
    "    augmat = np.concatenate((A,B), axis=1)\n",
    "    if not ( np.linalg.matrix_rank(augmat)==np.linalg.matrix_rank(A) and np.linalg.matrix_rank(A)==np.linalg.matrix_rank(B) ):\n",
    "        print('Test failed: A and B do not have the same column space')\n",
    "        testpassed = False\n",
    "    if testpassed:\n",
    "        print('Test passed')\n",
    "    "
   ]
  },
  {
   "cell_type": "code",
   "execution_count": null,
   "metadata": {},
   "outputs": [],
   "source": []
  }
 ],
 "metadata": {
  "kernelspec": {
   "display_name": "Python 3",
   "language": "python",
   "name": "python3"
  },
  "language_info": {
   "codemirror_mode": {
    "name": "ipython",
    "version": 3
   },
   "file_extension": ".py",
   "mimetype": "text/x-python",
   "name": "python",
   "nbconvert_exporter": "python",
   "pygments_lexer": "ipython3",
   "version": "3.8.3"
  }
 },
 "nbformat": 4,
 "nbformat_minor": 4
}
